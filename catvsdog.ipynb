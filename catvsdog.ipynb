{
 "cells": [
  {
   "cell_type": "code",
   "execution_count": 1,
   "id": "3d4b210e",
   "metadata": {
    "_cell_guid": "b1076dfc-b9ad-4769-8c92-a6c4dae69d19",
    "_uuid": "8f2839f25d086af736a60e9eeb907d3b93b6e0e5",
    "execution": {
     "iopub.execute_input": "2024-09-05T03:54:36.969335Z",
     "iopub.status.busy": "2024-09-05T03:54:36.968782Z",
     "iopub.status.idle": "2024-09-05T03:55:09.722482Z",
     "shell.execute_reply": "2024-09-05T03:55:09.721025Z"
    },
    "papermill": {
     "duration": 32.760974,
     "end_time": "2024-09-05T03:55:09.725492",
     "exception": false,
     "start_time": "2024-09-05T03:54:36.964518",
     "status": "completed"
    },
    "tags": []
   },
   "outputs": [
    {
     "name": "stdout",
     "output_type": "stream",
     "text": [
      "Traceback (most recent call last):\r\n",
      "  File \"/kaggle/input/resnet2/pytorch/default/1/catvsdog/train.py\", line 115, in <module>\r\n",
      "    train_resnet(model, train_loader, val_loader, criterion, optimizer, num_epochs=args.num_epochs, save_path=args.save_path)\r\n",
      "  File \"/kaggle/input/resnet2/pytorch/default/1/catvsdog/train.py\", line 12, in train_resnet\r\n",
      "    model = model.to(device)\r\n",
      "  File \"/opt/conda/lib/python3.10/site-packages/torch/nn/modules/module.py\", line 1174, in to\r\n",
      "    return self._apply(convert)\r\n",
      "  File \"/opt/conda/lib/python3.10/site-packages/torch/nn/modules/module.py\", line 780, in _apply\r\n",
      "    module._apply(fn)\r\n",
      "  File \"/opt/conda/lib/python3.10/site-packages/torch/nn/modules/module.py\", line 805, in _apply\r\n",
      "    param_applied = fn(param)\r\n",
      "  File \"/opt/conda/lib/python3.10/site-packages/torch/nn/modules/module.py\", line 1160, in convert\r\n",
      "    return t.to(\r\n",
      "  File \"/opt/conda/lib/python3.10/site-packages/torch/cuda/__init__.py\", line 305, in _lazy_init\r\n",
      "    raise AssertionError(\"Torch not compiled with CUDA enabled\")\r\n",
      "AssertionError: Torch not compiled with CUDA enabled\r\n",
      "/kaggle/input/resnet2/pytorch/default/1/catvsdog/test.py:13: FutureWarning: You are using `torch.load` with `weights_only=False` (the current default value), which uses the default pickle module implicitly. It is possible to construct malicious pickle data which will execute arbitrary code during unpickling (See https://github.com/pytorch/pytorch/blob/main/SECURITY.md#untrusted-models for more details). In a future release, the default value for `weights_only` will be flipped to `True`. This limits the functions that could be executed during unpickling. Arbitrary objects will no longer be allowed to be loaded via this mode unless they are explicitly allowlisted by the user via `torch.serialization.add_safe_globals`. We recommend you start setting `weights_only=True` for any use case where you don't have full control of the loaded file. Please open an issue on GitHub for any issues related to this experimental feature.\r\n",
      "  model.load_state_dict(torch.load(model_path, map_location=device))\r\n",
      "Traceback (most recent call last):\r\n",
      "  File \"/kaggle/input/resnet2/pytorch/default/1/catvsdog/test.py\", line 64, in <module>\r\n",
      "    model = load_model(model_path, device)\r\n",
      "  File \"/kaggle/input/resnet2/pytorch/default/1/catvsdog/test.py\", line 13, in load_model\r\n",
      "    model.load_state_dict(torch.load(model_path, map_location=device))\r\n",
      "  File \"/opt/conda/lib/python3.10/site-packages/torch/serialization.py\", line 1065, in load\r\n",
      "    with _open_file_like(f, 'rb') as opened_file:\r\n",
      "  File \"/opt/conda/lib/python3.10/site-packages/torch/serialization.py\", line 468, in _open_file_like\r\n",
      "    return _open_file(name_or_buffer, mode)\r\n",
      "  File \"/opt/conda/lib/python3.10/site-packages/torch/serialization.py\", line 449, in __init__\r\n",
      "    super().__init__(open(name, mode))\r\n",
      "FileNotFoundError: [Errno 2] No such file or directory: '/kaggle/working/best_resnet152_cats_dogs.pth'\r\n"
     ]
    }
   ],
   "source": [
    "# 检查是否已解压，若未解压则解压文件\n",
    "import os\n",
    "if not os.path.exists('/kaggle/working/train'):\n",
    "     !unzip -q /kaggle/input/dogs-vs-cats-redux-kernels-edition/train.zip -d /kaggle/working\n",
    "else:\n",
    "     print(\"【训练集】已经解压过了，不需要再次解压。\")\n",
    "        \n",
    "if not os.path.exists('/kaggle/working/test'):\n",
    "     !unzip -q /kaggle/input/dogs-vs-cats-redux-kernels-edition/test.zip -d /kaggle/working\n",
    "else:\n",
    "     print(\"【测试集】已经解压过了，不需要再次解压。\")\n",
    "        \n",
    "!python /kaggle/input/resnet2/pytorch/default/1/catvsdog/train.py --train_dir /kaggle/working/train --batch_size 64 --num_epochs 100 --save_path /kaggle/working/best_resnet152_cats_dogs.pth\n",
    "!python /kaggle/input/resnet2/pytorch/default/1/catvsdog/test.py --test_dir /kaggle/working/test --batch_size 64 --model_path /kaggle/working/best_resnet152_cats_dogs.pth"
   ]
  }
 ],
 "metadata": {
  "kaggle": {
   "accelerator": "none",
   "dataSources": [
    {
     "databundleVersionId": 38425,
     "sourceId": 5441,
     "sourceType": "competition"
    },
    {
     "modelId": 114432,
     "modelInstanceId": 90206,
     "sourceId": 107690,
     "sourceType": "modelInstanceVersion"
    }
   ],
   "dockerImageVersionId": 30761,
   "isGpuEnabled": false,
   "isInternetEnabled": true,
   "language": "python",
   "sourceType": "notebook"
  },
  "kernelspec": {
   "display_name": "Python 3",
   "language": "python",
   "name": "python3"
  },
  "language_info": {
   "codemirror_mode": {
    "name": "ipython",
    "version": 3
   },
   "file_extension": ".py",
   "mimetype": "text/x-python",
   "name": "python",
   "nbconvert_exporter": "python",
   "pygments_lexer": "ipython3",
   "version": "3.10.14"
  },
  "papermill": {
   "default_parameters": {},
   "duration": 36.169358,
   "end_time": "2024-09-05T03:55:10.150445",
   "environment_variables": {},
   "exception": null,
   "input_path": "__notebook__.ipynb",
   "output_path": "__notebook__.ipynb",
   "parameters": {},
   "start_time": "2024-09-05T03:54:33.981087",
   "version": "2.6.0"
  }
 },
 "nbformat": 4,
 "nbformat_minor": 5
}
